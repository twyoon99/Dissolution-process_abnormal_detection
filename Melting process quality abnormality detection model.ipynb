{
  "cells": [
    {
      "cell_type": "code",
      "execution_count": null,
      "id": "27bbec5c",
      "metadata": {
        "id": "27bbec5c"
      },
      "outputs": [],
      "source": [
        "import os\n",
        "import pandas as pd\n",
        "import numpy as np\n",
        "import matplotlib.pyplot as plt\n",
        "import seaborn as sns\n",
        "%matplotlib inline"
      ]
    },
    {
      "cell_type": "code",
      "execution_count": null,
      "id": "46d888e1",
      "metadata": {
        "id": "46d888e1"
      },
      "outputs": [],
      "source": [
        "from datetime import datetime\n",
        "from sklearn import preprocessing\n",
        "from sklearn.model_selection import train_test_split\n",
        "from sklearn.metrics import *\n",
        "from imblearn.over_sampling import SMOTE\n",
        "\n",
        "from keras.models import Sequential\n",
        "from keras.layers import Dense, LSTM\n",
        "from keras.preprocessing import sequence\n",
        "from keras.utils import np_utils\n",
        "from keras.callbacks import EarlyStopping, ModelCheckpoint"
      ]
    },
    {
      "cell_type": "code",
      "execution_count": null,
      "id": "10630d37",
      "metadata": {
        "id": "10630d37"
      },
      "outputs": [],
      "source": [
        "path = \"C:/Users/LG/Desktop/taeung \"\n",
        "os.chdir(path)\n",
        "\n",
        "df = pd.read_csv(\"melting_tank.csv\", encoding=\"cp949\")"
      ]
    },
    {
      "cell_type": "code",
      "execution_count": null,
      "id": "ab3acf45",
      "metadata": {
        "id": "ab3acf45",
        "outputId": "56efd810-2bb2-4005-a61e-e4dd0f99bcc7"
      },
      "outputs": [
        {
          "data": {
            "text/html": [
              "<div>\n",
              "<style scoped>\n",
              "    .dataframe tbody tr th:only-of-type {\n",
              "        vertical-align: middle;\n",
              "    }\n",
              "\n",
              "    .dataframe tbody tr th {\n",
              "        vertical-align: top;\n",
              "    }\n",
              "\n",
              "    .dataframe thead th {\n",
              "        text-align: right;\n",
              "    }\n",
              "</style>\n",
              "<table border=\"1\" class=\"dataframe\">\n",
              "  <thead>\n",
              "    <tr style=\"text-align: right;\">\n",
              "      <th></th>\n",
              "      <th>STD_DT</th>\n",
              "      <th>NUM</th>\n",
              "      <th>MELT_TEMP</th>\n",
              "      <th>MOTORSPEED</th>\n",
              "      <th>MELT_WEIGHT</th>\n",
              "      <th>INSP</th>\n",
              "      <th>TAG</th>\n",
              "    </tr>\n",
              "  </thead>\n",
              "  <tbody>\n",
              "    <tr>\n",
              "      <th>0</th>\n",
              "      <td>2020-03-04 0:00</td>\n",
              "      <td>0</td>\n",
              "      <td>489</td>\n",
              "      <td>116</td>\n",
              "      <td>631</td>\n",
              "      <td>3.19</td>\n",
              "      <td>OK</td>\n",
              "    </tr>\n",
              "    <tr>\n",
              "      <th>1</th>\n",
              "      <td>2020-03-04 0:00</td>\n",
              "      <td>1</td>\n",
              "      <td>433</td>\n",
              "      <td>78</td>\n",
              "      <td>609</td>\n",
              "      <td>3.19</td>\n",
              "      <td>OK</td>\n",
              "    </tr>\n",
              "    <tr>\n",
              "      <th>2</th>\n",
              "      <td>2020-03-04 0:00</td>\n",
              "      <td>2</td>\n",
              "      <td>464</td>\n",
              "      <td>154</td>\n",
              "      <td>608</td>\n",
              "      <td>3.19</td>\n",
              "      <td>OK</td>\n",
              "    </tr>\n",
              "    <tr>\n",
              "      <th>3</th>\n",
              "      <td>2020-03-04 0:00</td>\n",
              "      <td>3</td>\n",
              "      <td>379</td>\n",
              "      <td>212</td>\n",
              "      <td>606</td>\n",
              "      <td>3.19</td>\n",
              "      <td>OK</td>\n",
              "    </tr>\n",
              "    <tr>\n",
              "      <th>4</th>\n",
              "      <td>2020-03-04 0:00</td>\n",
              "      <td>4</td>\n",
              "      <td>798</td>\n",
              "      <td>1736</td>\n",
              "      <td>604</td>\n",
              "      <td>3.21</td>\n",
              "      <td>OK</td>\n",
              "    </tr>\n",
              "  </tbody>\n",
              "</table>\n",
              "</div>"
            ],
            "text/plain": [
              "            STD_DT  NUM  MELT_TEMP  MOTORSPEED  MELT_WEIGHT  INSP TAG\n",
              "0  2020-03-04 0:00    0        489         116          631  3.19  OK\n",
              "1  2020-03-04 0:00    1        433          78          609  3.19  OK\n",
              "2  2020-03-04 0:00    2        464         154          608  3.19  OK\n",
              "3  2020-03-04 0:00    3        379         212          606  3.19  OK\n",
              "4  2020-03-04 0:00    4        798        1736          604  3.21  OK"
            ]
          },
          "execution_count": 4,
          "metadata": {},
          "output_type": "execute_result"
        }
      ],
      "source": [
        "df.head()"
      ]
    },
    {
      "cell_type": "code",
      "execution_count": null,
      "id": "4f430e39",
      "metadata": {
        "scrolled": true,
        "id": "4f430e39",
        "outputId": "06919119-0030-49f7-96d3-255e50178ce4"
      },
      "outputs": [
        {
          "name": "stdout",
          "output_type": "stream",
          "text": [
            "<class 'pandas.core.frame.DataFrame'>\n",
            "RangeIndex: 835200 entries, 0 to 835199\n",
            "Data columns (total 7 columns):\n",
            " #   Column       Non-Null Count   Dtype  \n",
            "---  ------       --------------   -----  \n",
            " 0   STD_DT       835200 non-null  object \n",
            " 1   NUM          835200 non-null  int64  \n",
            " 2   MELT_TEMP    835200 non-null  int64  \n",
            " 3   MOTORSPEED   835200 non-null  int64  \n",
            " 4   MELT_WEIGHT  835200 non-null  int64  \n",
            " 5   INSP         835200 non-null  float64\n",
            " 6   TAG          835200 non-null  object \n",
            "dtypes: float64(1), int64(4), object(2)\n",
            "memory usage: 44.6+ MB\n"
          ]
        }
      ],
      "source": [
        "df.info()"
      ]
    },
    {
      "cell_type": "code",
      "execution_count": null,
      "id": "9359e64b",
      "metadata": {
        "scrolled": true,
        "id": "9359e64b",
        "outputId": "9043ac1f-facd-4af5-c31f-bd379789e52f"
      },
      "outputs": [
        {
          "data": {
            "text/html": [
              "<div>\n",
              "<style scoped>\n",
              "    .dataframe tbody tr th:only-of-type {\n",
              "        vertical-align: middle;\n",
              "    }\n",
              "\n",
              "    .dataframe tbody tr th {\n",
              "        vertical-align: top;\n",
              "    }\n",
              "\n",
              "    .dataframe thead th {\n",
              "        text-align: right;\n",
              "    }\n",
              "</style>\n",
              "<table border=\"1\" class=\"dataframe\">\n",
              "  <thead>\n",
              "    <tr style=\"text-align: right;\">\n",
              "      <th></th>\n",
              "      <th>NUM</th>\n",
              "      <th>MELT_TEMP</th>\n",
              "      <th>MOTORSPEED</th>\n",
              "      <th>MELT_WEIGHT</th>\n",
              "      <th>INSP</th>\n",
              "    </tr>\n",
              "  </thead>\n",
              "  <tbody>\n",
              "    <tr>\n",
              "      <th>count</th>\n",
              "      <td>835200.000000</td>\n",
              "      <td>835200.000000</td>\n",
              "      <td>835200.000000</td>\n",
              "      <td>835200.000000</td>\n",
              "      <td>835200.000000</td>\n",
              "    </tr>\n",
              "    <tr>\n",
              "      <th>mean</th>\n",
              "      <td>417599.500000</td>\n",
              "      <td>509.200623</td>\n",
              "      <td>459.782865</td>\n",
              "      <td>582.962125</td>\n",
              "      <td>3.194853</td>\n",
              "    </tr>\n",
              "    <tr>\n",
              "      <th>std</th>\n",
              "      <td>241101.616752</td>\n",
              "      <td>128.277519</td>\n",
              "      <td>639.436413</td>\n",
              "      <td>1217.604433</td>\n",
              "      <td>0.011822</td>\n",
              "    </tr>\n",
              "    <tr>\n",
              "      <th>min</th>\n",
              "      <td>0.000000</td>\n",
              "      <td>308.000000</td>\n",
              "      <td>0.000000</td>\n",
              "      <td>0.000000</td>\n",
              "      <td>3.170000</td>\n",
              "    </tr>\n",
              "    <tr>\n",
              "      <th>25%</th>\n",
              "      <td>208799.750000</td>\n",
              "      <td>430.000000</td>\n",
              "      <td>119.000000</td>\n",
              "      <td>186.000000</td>\n",
              "      <td>3.190000</td>\n",
              "    </tr>\n",
              "    <tr>\n",
              "      <th>50%</th>\n",
              "      <td>417599.500000</td>\n",
              "      <td>469.000000</td>\n",
              "      <td>168.000000</td>\n",
              "      <td>383.000000</td>\n",
              "      <td>3.190000</td>\n",
              "    </tr>\n",
              "    <tr>\n",
              "      <th>75%</th>\n",
              "      <td>626399.250000</td>\n",
              "      <td>502.000000</td>\n",
              "      <td>218.000000</td>\n",
              "      <td>583.000000</td>\n",
              "      <td>3.200000</td>\n",
              "    </tr>\n",
              "    <tr>\n",
              "      <th>max</th>\n",
              "      <td>835199.000000</td>\n",
              "      <td>832.000000</td>\n",
              "      <td>1804.000000</td>\n",
              "      <td>55252.000000</td>\n",
              "      <td>3.230000</td>\n",
              "    </tr>\n",
              "  </tbody>\n",
              "</table>\n",
              "</div>"
            ],
            "text/plain": [
              "                 NUM      MELT_TEMP     MOTORSPEED    MELT_WEIGHT  \\\n",
              "count  835200.000000  835200.000000  835200.000000  835200.000000   \n",
              "mean   417599.500000     509.200623     459.782865     582.962125   \n",
              "std    241101.616752     128.277519     639.436413    1217.604433   \n",
              "min         0.000000     308.000000       0.000000       0.000000   \n",
              "25%    208799.750000     430.000000     119.000000     186.000000   \n",
              "50%    417599.500000     469.000000     168.000000     383.000000   \n",
              "75%    626399.250000     502.000000     218.000000     583.000000   \n",
              "max    835199.000000     832.000000    1804.000000   55252.000000   \n",
              "\n",
              "                INSP  \n",
              "count  835200.000000  \n",
              "mean        3.194853  \n",
              "std         0.011822  \n",
              "min         3.170000  \n",
              "25%         3.190000  \n",
              "50%         3.190000  \n",
              "75%         3.200000  \n",
              "max         3.230000  "
            ]
          },
          "execution_count": 6,
          "metadata": {},
          "output_type": "execute_result"
        }
      ],
      "source": [
        "df.describe()"
      ]
    },
    {
      "cell_type": "code",
      "execution_count": null,
      "id": "75f2f70a",
      "metadata": {
        "id": "75f2f70a"
      },
      "outputs": [],
      "source": [
        "df['STD_DT']=df['STD_DT'].apply(lambda x: pd.to_datetime(str(x),format='%Y-%m-%d %H:%M:%S'))"
      ]
    },
    {
      "cell_type": "code",
      "execution_count": null,
      "id": "4f63095c",
      "metadata": {
        "id": "4f63095c",
        "outputId": "1ade91a3-3f4f-40fd-a618-6df21f544ae1"
      },
      "outputs": [
        {
          "name": "stdout",
          "output_type": "stream",
          "text": [
            "<class 'pandas.core.frame.DataFrame'>\n",
            "RangeIndex: 835200 entries, 0 to 835199\n",
            "Data columns (total 7 columns):\n",
            " #   Column       Non-Null Count   Dtype         \n",
            "---  ------       --------------   -----         \n",
            " 0   STD_DT       835200 non-null  datetime64[ns]\n",
            " 1   NUM          835200 non-null  int64         \n",
            " 2   MELT_TEMP    835200 non-null  int64         \n",
            " 3   MOTORSPEED   835200 non-null  int64         \n",
            " 4   MELT_WEIGHT  835200 non-null  int64         \n",
            " 5   INSP         835200 non-null  float64       \n",
            " 6   TAG          835200 non-null  object        \n",
            "dtypes: datetime64[ns](1), float64(1), int64(4), object(1)\n",
            "memory usage: 44.6+ MB\n"
          ]
        }
      ],
      "source": [
        "df.info()"
      ]
    },
    {
      "cell_type": "code",
      "execution_count": null,
      "id": "aa91cb7f",
      "metadata": {
        "id": "aa91cb7f"
      },
      "outputs": [],
      "source": [
        "df = df.set_index(['STD_DT'])"
      ]
    },
    {
      "cell_type": "code",
      "execution_count": null,
      "id": "6907a55d",
      "metadata": {
        "scrolled": false,
        "id": "6907a55d",
        "outputId": "08fc6b71-b5e2-4abf-bade-ef659614b90c"
      },
      "outputs": [
        {
          "data": {
            "text/html": [
              "<div>\n",
              "<style scoped>\n",
              "    .dataframe tbody tr th:only-of-type {\n",
              "        vertical-align: middle;\n",
              "    }\n",
              "\n",
              "    .dataframe tbody tr th {\n",
              "        vertical-align: top;\n",
              "    }\n",
              "\n",
              "    .dataframe thead th {\n",
              "        text-align: right;\n",
              "    }\n",
              "</style>\n",
              "<table border=\"1\" class=\"dataframe\">\n",
              "  <thead>\n",
              "    <tr style=\"text-align: right;\">\n",
              "      <th></th>\n",
              "      <th>NUM</th>\n",
              "      <th>MELT_TEMP</th>\n",
              "      <th>MOTORSPEED</th>\n",
              "      <th>MELT_WEIGHT</th>\n",
              "      <th>INSP</th>\n",
              "      <th>TAG</th>\n",
              "    </tr>\n",
              "    <tr>\n",
              "      <th>STD_DT</th>\n",
              "      <th></th>\n",
              "      <th></th>\n",
              "      <th></th>\n",
              "      <th></th>\n",
              "      <th></th>\n",
              "      <th></th>\n",
              "    </tr>\n",
              "  </thead>\n",
              "  <tbody>\n",
              "    <tr>\n",
              "      <th>2020-03-04 00:00:00</th>\n",
              "      <td>0</td>\n",
              "      <td>489</td>\n",
              "      <td>116</td>\n",
              "      <td>631</td>\n",
              "      <td>3.19</td>\n",
              "      <td>OK</td>\n",
              "    </tr>\n",
              "    <tr>\n",
              "      <th>2020-03-04 00:00:00</th>\n",
              "      <td>1</td>\n",
              "      <td>433</td>\n",
              "      <td>78</td>\n",
              "      <td>609</td>\n",
              "      <td>3.19</td>\n",
              "      <td>OK</td>\n",
              "    </tr>\n",
              "    <tr>\n",
              "      <th>2020-03-04 00:00:00</th>\n",
              "      <td>2</td>\n",
              "      <td>464</td>\n",
              "      <td>154</td>\n",
              "      <td>608</td>\n",
              "      <td>3.19</td>\n",
              "      <td>OK</td>\n",
              "    </tr>\n",
              "    <tr>\n",
              "      <th>2020-03-04 00:00:00</th>\n",
              "      <td>3</td>\n",
              "      <td>379</td>\n",
              "      <td>212</td>\n",
              "      <td>606</td>\n",
              "      <td>3.19</td>\n",
              "      <td>OK</td>\n",
              "    </tr>\n",
              "    <tr>\n",
              "      <th>2020-03-04 00:00:00</th>\n",
              "      <td>4</td>\n",
              "      <td>798</td>\n",
              "      <td>1736</td>\n",
              "      <td>604</td>\n",
              "      <td>3.21</td>\n",
              "      <td>OK</td>\n",
              "    </tr>\n",
              "    <tr>\n",
              "      <th>2020-03-04 00:00:00</th>\n",
              "      <td>5</td>\n",
              "      <td>743</td>\n",
              "      <td>1722</td>\n",
              "      <td>603</td>\n",
              "      <td>3.21</td>\n",
              "      <td>OK</td>\n",
              "    </tr>\n",
              "    <tr>\n",
              "      <th>2020-03-04 00:00:00</th>\n",
              "      <td>6</td>\n",
              "      <td>390</td>\n",
              "      <td>212</td>\n",
              "      <td>602</td>\n",
              "      <td>3.19</td>\n",
              "      <td>OK</td>\n",
              "    </tr>\n",
              "    <tr>\n",
              "      <th>2020-03-04 00:00:00</th>\n",
              "      <td>7</td>\n",
              "      <td>493</td>\n",
              "      <td>152</td>\n",
              "      <td>600</td>\n",
              "      <td>3.19</td>\n",
              "      <td>OK</td>\n",
              "    </tr>\n",
              "    <tr>\n",
              "      <th>2020-03-04 00:00:00</th>\n",
              "      <td>8</td>\n",
              "      <td>427</td>\n",
              "      <td>0</td>\n",
              "      <td>599</td>\n",
              "      <td>3.19</td>\n",
              "      <td>OK</td>\n",
              "    </tr>\n",
              "    <tr>\n",
              "      <th>2020-03-04 00:00:00</th>\n",
              "      <td>9</td>\n",
              "      <td>489</td>\n",
              "      <td>148</td>\n",
              "      <td>598</td>\n",
              "      <td>3.20</td>\n",
              "      <td>OK</td>\n",
              "    </tr>\n",
              "    <tr>\n",
              "      <th>2020-03-04 00:01:00</th>\n",
              "      <td>10</td>\n",
              "      <td>507</td>\n",
              "      <td>128</td>\n",
              "      <td>596</td>\n",
              "      <td>3.19</td>\n",
              "      <td>OK</td>\n",
              "    </tr>\n",
              "    <tr>\n",
              "      <th>2020-03-04 00:01:00</th>\n",
              "      <td>11</td>\n",
              "      <td>408</td>\n",
              "      <td>66</td>\n",
              "      <td>595</td>\n",
              "      <td>3.19</td>\n",
              "      <td>OK</td>\n",
              "    </tr>\n",
              "    <tr>\n",
              "      <th>2020-03-04 00:01:00</th>\n",
              "      <td>12</td>\n",
              "      <td>474</td>\n",
              "      <td>138</td>\n",
              "      <td>594</td>\n",
              "      <td>3.19</td>\n",
              "      <td>OK</td>\n",
              "    </tr>\n",
              "    <tr>\n",
              "      <th>2020-03-04 00:01:00</th>\n",
              "      <td>13</td>\n",
              "      <td>358</td>\n",
              "      <td>201</td>\n",
              "      <td>592</td>\n",
              "      <td>3.19</td>\n",
              "      <td>OK</td>\n",
              "    </tr>\n",
              "    <tr>\n",
              "      <th>2020-03-04 00:01:00</th>\n",
              "      <td>14</td>\n",
              "      <td>740</td>\n",
              "      <td>1740</td>\n",
              "      <td>590</td>\n",
              "      <td>3.22</td>\n",
              "      <td>OK</td>\n",
              "    </tr>\n",
              "    <tr>\n",
              "      <th>2020-03-04 00:01:00</th>\n",
              "      <td>15</td>\n",
              "      <td>772</td>\n",
              "      <td>1729</td>\n",
              "      <td>588</td>\n",
              "      <td>3.22</td>\n",
              "      <td>OK</td>\n",
              "    </tr>\n",
              "    <tr>\n",
              "      <th>2020-03-04 00:01:00</th>\n",
              "      <td>16</td>\n",
              "      <td>424</td>\n",
              "      <td>195</td>\n",
              "      <td>586</td>\n",
              "      <td>3.18</td>\n",
              "      <td>OK</td>\n",
              "    </tr>\n",
              "    <tr>\n",
              "      <th>2020-03-04 00:01:00</th>\n",
              "      <td>17</td>\n",
              "      <td>460</td>\n",
              "      <td>158</td>\n",
              "      <td>585</td>\n",
              "      <td>3.19</td>\n",
              "      <td>OK</td>\n",
              "    </tr>\n",
              "    <tr>\n",
              "      <th>2020-03-04 00:01:00</th>\n",
              "      <td>18</td>\n",
              "      <td>440</td>\n",
              "      <td>0</td>\n",
              "      <td>584</td>\n",
              "      <td>3.19</td>\n",
              "      <td>OK</td>\n",
              "    </tr>\n",
              "    <tr>\n",
              "      <th>2020-03-04 00:01:00</th>\n",
              "      <td>19</td>\n",
              "      <td>504</td>\n",
              "      <td>133</td>\n",
              "      <td>582</td>\n",
              "      <td>3.19</td>\n",
              "      <td>OK</td>\n",
              "    </tr>\n",
              "  </tbody>\n",
              "</table>\n",
              "</div>"
            ],
            "text/plain": [
              "                     NUM  MELT_TEMP  MOTORSPEED  MELT_WEIGHT  INSP TAG\n",
              "STD_DT                                                                \n",
              "2020-03-04 00:00:00    0        489         116          631  3.19  OK\n",
              "2020-03-04 00:00:00    1        433          78          609  3.19  OK\n",
              "2020-03-04 00:00:00    2        464         154          608  3.19  OK\n",
              "2020-03-04 00:00:00    3        379         212          606  3.19  OK\n",
              "2020-03-04 00:00:00    4        798        1736          604  3.21  OK\n",
              "2020-03-04 00:00:00    5        743        1722          603  3.21  OK\n",
              "2020-03-04 00:00:00    6        390         212          602  3.19  OK\n",
              "2020-03-04 00:00:00    7        493         152          600  3.19  OK\n",
              "2020-03-04 00:00:00    8        427           0          599  3.19  OK\n",
              "2020-03-04 00:00:00    9        489         148          598  3.20  OK\n",
              "2020-03-04 00:01:00   10        507         128          596  3.19  OK\n",
              "2020-03-04 00:01:00   11        408          66          595  3.19  OK\n",
              "2020-03-04 00:01:00   12        474         138          594  3.19  OK\n",
              "2020-03-04 00:01:00   13        358         201          592  3.19  OK\n",
              "2020-03-04 00:01:00   14        740        1740          590  3.22  OK\n",
              "2020-03-04 00:01:00   15        772        1729          588  3.22  OK\n",
              "2020-03-04 00:01:00   16        424         195          586  3.18  OK\n",
              "2020-03-04 00:01:00   17        460         158          585  3.19  OK\n",
              "2020-03-04 00:01:00   18        440           0          584  3.19  OK\n",
              "2020-03-04 00:01:00   19        504         133          582  3.19  OK"
            ]
          },
          "execution_count": 10,
          "metadata": {},
          "output_type": "execute_result"
        }
      ],
      "source": [
        "df.head(20)"
      ]
    },
    {
      "cell_type": "code",
      "execution_count": null,
      "id": "adaa3f32",
      "metadata": {
        "id": "adaa3f32"
      },
      "outputs": [],
      "source": [
        "col_name = ['MELT_TEMP','MOTORSPEED','MELT_WEIGHT','INSP','TAG']"
      ]
    },
    {
      "cell_type": "code",
      "execution_count": null,
      "id": "800234b5",
      "metadata": {
        "scrolled": true,
        "id": "800234b5",
        "outputId": "cd306ade-96dc-4050-e14c-24428b905fa3"
      },
      "outputs": [
        {
          "data": {
            "image/png": "[encoded data removed]",
            "text/plain": [
              "<Figure size 864x864 with 5 Axes>"
            ]
          },
          "metadata": {
            "needs_background": "light"
          },
          "output_type": "display_data"
        }
      ],
      "source": [
        "plt.figure(figsize=(12,12))\n",
        "for i in range(len(col_name)):\n",
        "    num = 231+i\n",
        "    plt.subplot(num)\n",
        "    plt.hist(df[col_name[i]])\n",
        "    plt.xticks(rotation=45)\n",
        "    plt.title(col_name[i])\n",
        "plt.show()"
      ]
    },
    {
      "cell_type": "code",
      "execution_count": null,
      "id": "85e15c90",
      "metadata": {
        "scrolled": true,
        "id": "85e15c90",
        "outputId": "79b66dd6-4ebd-47c1-87ed-6e20592b5b41"
      },
      "outputs": [
        {
          "data": {
            "image/png": "[encoded data removed]",
            "text/plain": [
              "<Figure size 864x864 with 4 Axes>"
            ]
          },
          "metadata": {
            "needs_background": "light"
          },
          "output_type": "display_data"
        }
      ],
      "source": [
        "col_name = ['MELT_TEMP','MOTORSPEED','MELT_WEIGHT','INSP']\n",
        "plt.figure(figsize=(12,12))\n",
        "for i in range(len(col_name)):\n",
        "    num = 221+i\n",
        "    plt.subplot(num)\n",
        "    plt.plot(df[col_name[i]])\n",
        "    plt.xticks(rotation=45)\n",
        "    plt.title(col_name[i])\n",
        "plt.subplots_adjust(left=0.125, bottom=0.1, right=0.9, top=0.9, wspace=0.2, hspace=0.35)\n",
        "plt.show()"
      ]
    },
    {
      "cell_type": "code",
      "execution_count": null,
      "id": "a203fee1",
      "metadata": {
        "id": "a203fee1",
        "outputId": "77ae0409-641e-4a84-fc5b-3079e96a9c0d"
      },
      "outputs": [
        {
          "data": {
            "image/png": "[encoded data removed]",
            "text/plain": [
              "<Figure size 864x864 with 4 Axes>"
            ]
          },
          "metadata": {
            "needs_background": "light"
          },
          "output_type": "display_data"
        }
      ],
      "source": [
        "plt.figure(figsize=(12,12))\n",
        "for i in range(len(col_name)):\n",
        "    num = 221+i\n",
        "    plt.subplot(num)\n",
        "    plt.plot(df[col_name[i]][0:100])\n",
        "    plt.xticks(rotation=45)\n",
        "    plt.title(col_name[i])\n",
        "plt.subplots_adjust(left=0.125, bottom=0.1, right=0.9, top=0.9, wspace=0.2, hspace=0.35)\n",
        "plt.show()"
      ]
    },
    {
      "cell_type": "code",
      "execution_count": null,
      "id": "de4c37e2",
      "metadata": {
        "id": "de4c37e2"
      },
      "outputs": [],
      "source": [
        "encoder = preprocessing.LabelEncoder()\n",
        "df['TAG']=encoder.fit_transform(df['TAG'])\n",
        "df['TAG']=df['TAG'].astype('float32')"
      ]
    },
    {
      "cell_type": "code",
      "execution_count": null,
      "id": "a0052d16",
      "metadata": {
        "scrolled": true,
        "id": "a0052d16",
        "outputId": "94516bff-cbac-40d4-88c4-c87855e5d5c7"
      },
      "outputs": [
        {
          "data": {
            "text/plain": [
              "1.0    658133\n",
              "0.0    177067\n",
              "Name: TAG, dtype: int64"
            ]
          },
          "execution_count": 16,
          "metadata": {},
          "output_type": "execute_result"
        }
      ],
      "source": [
        "df['TAG'].value_counts()"
      ]
    },
    {
      "cell_type": "code",
      "execution_count": null,
      "id": "21248125",
      "metadata": {
        "id": "21248125",
        "outputId": "f1349d88-01e1-4318-a994-e629cd07219d"
      },
      "outputs": [
        {
          "data": {
            "image/png": "[encoded data removed]",
            "text/plain": [
              "<Figure size 864x864 with 2 Axes>"
            ]
          },
          "metadata": {
            "needs_background": "light"
          },
          "output_type": "display_data"
        }
      ],
      "source": [
        "colormap = plt.cm.gist_heat\n",
        "plt.figure(figsize=(12,12))\n",
        "\n",
        "sns.heatmap(df.corr(),linewidths=0.1,vmax=0.5,cmap=colormap,linecolor='white',annot=True)\n",
        "plt.show()"
      ]
    },
    {
      "cell_type": "code",
      "execution_count": null,
      "id": "c900e800",
      "metadata": {
        "scrolled": true,
        "id": "c900e800",
        "outputId": "f59e04f6-54df-4e80-adb0-5a1e52721597"
      },
      "outputs": [
        {
          "data": {
            "text/html": [
              "<div>\n",
              "<style scoped>\n",
              "    .dataframe tbody tr th:only-of-type {\n",
              "        vertical-align: middle;\n",
              "    }\n",
              "\n",
              "    .dataframe tbody tr th {\n",
              "        vertical-align: top;\n",
              "    }\n",
              "\n",
              "    .dataframe thead th {\n",
              "        text-align: right;\n",
              "    }\n",
              "</style>\n",
              "<table border=\"1\" class=\"dataframe\">\n",
              "  <thead>\n",
              "    <tr style=\"text-align: right;\">\n",
              "      <th></th>\n",
              "      <th>NUM</th>\n",
              "      <th>MELT_TEMP</th>\n",
              "      <th>MOTORSPEED</th>\n",
              "      <th>MELT_WEIGHT</th>\n",
              "      <th>INSP</th>\n",
              "      <th>TAG</th>\n",
              "    </tr>\n",
              "  </thead>\n",
              "  <tbody>\n",
              "    <tr>\n",
              "      <th>NUM</th>\n",
              "      <td>1.000000</td>\n",
              "      <td>0.000188</td>\n",
              "      <td>-0.000050</td>\n",
              "      <td>0.080079</td>\n",
              "      <td>-0.000524</td>\n",
              "      <td>0.086698</td>\n",
              "    </tr>\n",
              "    <tr>\n",
              "      <th>MELT_TEMP</th>\n",
              "      <td>0.000188</td>\n",
              "      <td>1.000000</td>\n",
              "      <td>0.944929</td>\n",
              "      <td>-0.000336</td>\n",
              "      <td>0.916295</td>\n",
              "      <td>0.310586</td>\n",
              "    </tr>\n",
              "    <tr>\n",
              "      <th>MOTORSPEED</th>\n",
              "      <td>-0.000050</td>\n",
              "      <td>0.944929</td>\n",
              "      <td>1.000000</td>\n",
              "      <td>0.000123</td>\n",
              "      <td>0.887813</td>\n",
              "      <td>0.264693</td>\n",
              "    </tr>\n",
              "    <tr>\n",
              "      <th>MELT_WEIGHT</th>\n",
              "      <td>0.080079</td>\n",
              "      <td>-0.000336</td>\n",
              "      <td>0.000123</td>\n",
              "      <td>1.000000</td>\n",
              "      <td>-0.000005</td>\n",
              "      <td>-0.012084</td>\n",
              "    </tr>\n",
              "    <tr>\n",
              "      <th>INSP</th>\n",
              "      <td>-0.000524</td>\n",
              "      <td>0.916295</td>\n",
              "      <td>0.887813</td>\n",
              "      <td>-0.000005</td>\n",
              "      <td>1.000000</td>\n",
              "      <td>0.272580</td>\n",
              "    </tr>\n",
              "    <tr>\n",
              "      <th>TAG</th>\n",
              "      <td>0.086698</td>\n",
              "      <td>0.310586</td>\n",
              "      <td>0.264693</td>\n",
              "      <td>-0.012084</td>\n",
              "      <td>0.272580</td>\n",
              "      <td>1.000000</td>\n",
              "    </tr>\n",
              "  </tbody>\n",
              "</table>\n",
              "</div>"
            ],
            "text/plain": [
              "                  NUM  MELT_TEMP  MOTORSPEED  MELT_WEIGHT      INSP       TAG\n",
              "NUM          1.000000   0.000188   -0.000050     0.080079 -0.000524  0.086698\n",
              "MELT_TEMP    0.000188   1.000000    0.944929    -0.000336  0.916295  0.310586\n",
              "MOTORSPEED  -0.000050   0.944929    1.000000     0.000123  0.887813  0.264693\n",
              "MELT_WEIGHT  0.080079  -0.000336    0.000123     1.000000 -0.000005 -0.012084\n",
              "INSP        -0.000524   0.916295    0.887813    -0.000005  1.000000  0.272580\n",
              "TAG          0.086698   0.310586    0.264693    -0.012084  0.272580  1.000000"
            ]
          },
          "execution_count": 18,
          "metadata": {},
          "output_type": "execute_result"
        }
      ],
      "source": [
        "corr = df.corr(method = 'pearson')\n",
        "corr"
      ]
    },
    {
      "cell_type": "code",
      "execution_count": null,
      "id": "0280d2e8",
      "metadata": {
        "id": "0280d2e8"
      },
      "outputs": [],
      "source": [
        "df1= df[['MELT_TEMP', 'MOTORSPEED', 'INSP', 'TAG']]"
      ]
    },
    {
      "cell_type": "code",
      "execution_count": null,
      "id": "7a75c06f",
      "metadata": {
        "scrolled": false,
        "id": "7a75c06f",
        "outputId": "b186e7d1-9936-4a74-fd06-bb7d362a58f1"
      },
      "outputs": [
        {
          "data": {
            "text/html": [
              "<div>\n",
              "<style scoped>\n",
              "    .dataframe tbody tr th:only-of-type {\n",
              "        vertical-align: middle;\n",
              "    }\n",
              "\n",
              "    .dataframe tbody tr th {\n",
              "        vertical-align: top;\n",
              "    }\n",
              "\n",
              "    .dataframe thead th {\n",
              "        text-align: right;\n",
              "    }\n",
              "</style>\n",
              "<table border=\"1\" class=\"dataframe\">\n",
              "  <thead>\n",
              "    <tr style=\"text-align: right;\">\n",
              "      <th></th>\n",
              "      <th>MELT_TEMP</th>\n",
              "      <th>MOTORSPEED</th>\n",
              "      <th>INSP</th>\n",
              "      <th>TAG</th>\n",
              "    </tr>\n",
              "    <tr>\n",
              "      <th>STD_DT</th>\n",
              "      <th></th>\n",
              "      <th></th>\n",
              "      <th></th>\n",
              "      <th></th>\n",
              "    </tr>\n",
              "  </thead>\n",
              "  <tbody>\n",
              "    <tr>\n",
              "      <th>2020-03-04 00:00:00</th>\n",
              "      <td>489</td>\n",
              "      <td>116</td>\n",
              "      <td>3.19</td>\n",
              "      <td>1.0</td>\n",
              "    </tr>\n",
              "    <tr>\n",
              "      <th>2020-03-04 00:00:00</th>\n",
              "      <td>433</td>\n",
              "      <td>78</td>\n",
              "      <td>3.19</td>\n",
              "      <td>1.0</td>\n",
              "    </tr>\n",
              "    <tr>\n",
              "      <th>2020-03-04 00:00:00</th>\n",
              "      <td>464</td>\n",
              "      <td>154</td>\n",
              "      <td>3.19</td>\n",
              "      <td>1.0</td>\n",
              "    </tr>\n",
              "    <tr>\n",
              "      <th>2020-03-04 00:00:00</th>\n",
              "      <td>379</td>\n",
              "      <td>212</td>\n",
              "      <td>3.19</td>\n",
              "      <td>1.0</td>\n",
              "    </tr>\n",
              "    <tr>\n",
              "      <th>2020-03-04 00:00:00</th>\n",
              "      <td>798</td>\n",
              "      <td>1736</td>\n",
              "      <td>3.21</td>\n",
              "      <td>1.0</td>\n",
              "    </tr>\n",
              "    <tr>\n",
              "      <th>...</th>\n",
              "      <td>...</td>\n",
              "      <td>...</td>\n",
              "      <td>...</td>\n",
              "      <td>...</td>\n",
              "    </tr>\n",
              "    <tr>\n",
              "      <th>2020-04-30 23:59:00</th>\n",
              "      <td>755</td>\n",
              "      <td>1743</td>\n",
              "      <td>3.21</td>\n",
              "      <td>1.0</td>\n",
              "    </tr>\n",
              "    <tr>\n",
              "      <th>2020-04-30 23:59:00</th>\n",
              "      <td>385</td>\n",
              "      <td>206</td>\n",
              "      <td>3.19</td>\n",
              "      <td>1.0</td>\n",
              "    </tr>\n",
              "    <tr>\n",
              "      <th>2020-04-30 23:59:00</th>\n",
              "      <td>465</td>\n",
              "      <td>148</td>\n",
              "      <td>3.20</td>\n",
              "      <td>1.0</td>\n",
              "    </tr>\n",
              "    <tr>\n",
              "      <th>2020-04-30 23:59:00</th>\n",
              "      <td>467</td>\n",
              "      <td>0</td>\n",
              "      <td>3.19</td>\n",
              "      <td>1.0</td>\n",
              "    </tr>\n",
              "    <tr>\n",
              "      <th>2020-04-30 23:59:00</th>\n",
              "      <td>453</td>\n",
              "      <td>125</td>\n",
              "      <td>3.20</td>\n",
              "      <td>1.0</td>\n",
              "    </tr>\n",
              "  </tbody>\n",
              "</table>\n",
              "<p>835200 rows × 4 columns</p>\n",
              "</div>"
            ],
            "text/plain": [
              "                     MELT_TEMP  MOTORSPEED  INSP  TAG\n",
              "STD_DT                                               \n",
              "2020-03-04 00:00:00        489         116  3.19  1.0\n",
              "2020-03-04 00:00:00        433          78  3.19  1.0\n",
              "2020-03-04 00:00:00        464         154  3.19  1.0\n",
              "2020-03-04 00:00:00        379         212  3.19  1.0\n",
              "2020-03-04 00:00:00        798        1736  3.21  1.0\n",
              "...                        ...         ...   ...  ...\n",
              "2020-04-30 23:59:00        755        1743  3.21  1.0\n",
              "2020-04-30 23:59:00        385         206  3.19  1.0\n",
              "2020-04-30 23:59:00        465         148  3.20  1.0\n",
              "2020-04-30 23:59:00        467           0  3.19  1.0\n",
              "2020-04-30 23:59:00        453         125  3.20  1.0\n",
              "\n",
              "[835200 rows x 4 columns]"
            ]
          },
          "execution_count": 20,
          "metadata": {},
          "output_type": "execute_result"
        }
      ],
      "source": [
        "df1"
      ]
    },
    {
      "cell_type": "code",
      "execution_count": null,
      "id": "cc81ff4e",
      "metadata": {
        "id": "cc81ff4e"
      },
      "outputs": [],
      "source": [
        "split_date = int(df1.shape[0]*0.7)\n",
        "\n",
        "train = df1[:split_date]\n",
        "test = df1[split_date:]"
      ]
    },
    {
      "cell_type": "code",
      "execution_count": null,
      "id": "97fad155",
      "metadata": {
        "scrolled": true,
        "id": "97fad155",
        "outputId": "ee1b2193-25ab-4bb9-bf53-9343fb5a14b2"
      },
      "outputs": [
        {
          "name": "stdout",
          "output_type": "stream",
          "text": [
            "(584640, 4)\n",
            "(250560, 4)\n"
          ]
        }
      ],
      "source": [
        "print(train.shape)\n",
        "print(test.shape)"
      ]
    },
    {
      "cell_type": "code",
      "execution_count": null,
      "id": "27e22fd7",
      "metadata": {
        "id": "27e22fd7"
      },
      "outputs": [],
      "source": [
        "scaler = preprocessing.MinMaxScaler()\n",
        "\n",
        "train_sc = scaler.fit_transform(train)\n",
        "test_sc = scaler.transform(test)"
      ]
    },
    {
      "cell_type": "code",
      "execution_count": null,
      "id": "0cfd4fcf",
      "metadata": {
        "id": "0cfd4fcf",
        "outputId": "e1b964cf-4177-4509-cf5c-1aa697bb8843"
      },
      "outputs": [
        {
          "data": {
            "text/plain": [
              "array([[0.34541985, 0.06430155, 0.33333333, 1.        ],\n",
              "       [0.23854962, 0.04323725, 0.33333333, 1.        ],\n",
              "       [0.29770992, 0.08536585, 0.33333333, 1.        ],\n",
              "       ...,\n",
              "       [0.31679389, 0.08203991, 0.33333333, 1.        ],\n",
              "       [0.1870229 , 0.03769401, 0.16666667, 1.        ],\n",
              "       [0.32251908, 0.05820399, 0.33333333, 1.        ]])"
            ]
          },
          "execution_count": 24,
          "metadata": {},
          "output_type": "execute_result"
        }
      ],
      "source": [
        "train_sc"
      ]
    },
    {
      "cell_type": "code",
      "execution_count": null,
      "id": "d17f72f9",
      "metadata": {
        "id": "d17f72f9"
      },
      "outputs": [],
      "source": [
        "X_train_values = train_sc[:, :-1]\n",
        "y_train_values = train_sc[:,-1]"
      ]
    },
    {
      "cell_type": "code",
      "execution_count": null,
      "id": "a0bdc840",
      "metadata": {
        "id": "a0bdc840",
        "outputId": "4c4aec51-0eeb-4f65-e605-18baf8974953"
      },
      "outputs": [
        {
          "name": "stdout",
          "output_type": "stream",
          "text": [
            "SMOTE 적용 전 학습용 피처/레이블 데이터 세트:  (584640, 3) (584640,)\n",
            "SMOTE 적용 후 학습용 피처/레이블 데이터 세트:  (821032, 3) (821032,)\n",
            "SMOTE 적용 후 헤이블 값 분포: \n",
            " 1.0    410516\n",
            "0.0    410516\n",
            "dtype: int64\n"
          ]
        }
      ],
      "source": [
        "smote = SMOTE(random_state=0)\n",
        "\n",
        "X_train_over,y_train_over = smote.fit_sample(X_train_values,y_train_values)\n",
        "print('SMOTE 적용 전 학습용 피처/레이블 데이터 세트: ', X_train_values.shape, y_train_values.shape)\n",
        "print('SMOTE 적용 후 학습용 피처/레이블 데이터 세트: ', X_train_over.shape, y_train_over.shape)\n",
        "print('SMOTE 적용 후 헤이블 값 분포: \\n', pd.Series(y_train_over).value_counts())"
      ]
    },
    {
      "cell_type": "code",
      "execution_count": null,
      "id": "922d503e",
      "metadata": {
        "id": "922d503e"
      },
      "outputs": [],
      "source": [
        "def make_dataset(data, label, window_size):\n",
        "    feature_list = []\n",
        "    label_list = []\n",
        "    for i in range(len(data) - window_size):\n",
        "        feature_list.append(np.array(data.iloc[i:i+window_size]))\n",
        "        label_list.append(np.array(label.iloc[i+window_size]))\n",
        "    return np.array(feature_list), np.array(label_list)"
      ]
    },
    {
      "cell_type": "code",
      "execution_count": null,
      "id": "ada06194",
      "metadata": {
        "id": "ada06194"
      },
      "outputs": [],
      "source": [
        "X_train_over = pd.DataFrame(X_train_over, columns=['MELT_TEMP', 'MOTORSPEED', 'INST'])\n",
        "y_train_over = pd.DataFrame(y_train_over, columns=['TAG'])"
      ]
    },
    {
      "cell_type": "code",
      "execution_count": null,
      "id": "e1700d96",
      "metadata": {
        "id": "e1700d96"
      },
      "outputs": [],
      "source": [
        "train_feature, train_label = make_dataset(X_train_over, y_train_over, 10)"
      ]
    },
    {
      "cell_type": "code",
      "execution_count": null,
      "id": "9d6cda3a",
      "metadata": {
        "id": "9d6cda3a"
      },
      "outputs": [],
      "source": [
        "test_sc = pd.DataFrame(test_sc, columns=['MELT_TEMP', 'MOTORSPEED','INST', 'TAG'])"
      ]
    },
    {
      "cell_type": "code",
      "execution_count": null,
      "id": "c3c5e5bf",
      "metadata": {
        "id": "c3c5e5bf"
      },
      "outputs": [],
      "source": [
        "featur_cols = ['MELT_TEMP', 'MOTORSPEED', 'INST']\n",
        "label_cols = ['TAG']"
      ]
    },
    {
      "cell_type": "code",
      "execution_count": null,
      "id": "b66a85e7",
      "metadata": {
        "id": "b66a85e7",
        "outputId": "ad7b3547-9403-4ec1-a302-42f97b601f9a"
      },
      "outputs": [
        {
          "data": {
            "text/plain": [
              "((250550, 10, 3), (250550, 1))"
            ]
          },
          "execution_count": 32,
          "metadata": {},
          "output_type": "execute_result"
        }
      ],
      "source": [
        "test_feature = test_sc[featur_cols]\n",
        "test_label = test_sc[label_cols]\n",
        "\n",
        "test_feature, test_label = make_dataset(test_feature, test_label, 10)\n",
        "test_feature.shape, test_label.shape"
      ]
    },
    {
      "cell_type": "code",
      "execution_count": null,
      "id": "fb0a0979",
      "metadata": {
        "id": "fb0a0979",
        "outputId": "1e8790f0-dcbc-4c16-b067-4d23a03b64f5"
      },
      "outputs": [
        {
          "data": {
            "text/plain": [
              "((574715, 10, 3), (246307, 10, 3))"
            ]
          },
          "execution_count": 33,
          "metadata": {},
          "output_type": "execute_result"
        }
      ],
      "source": [
        "x_train, x_valid, y_train, y_valid = train_test_split(train_feature, train_label, test_size=0.3)\n",
        "\n",
        "x_train.shape, x_valid.shape"
      ]
    },
    {
      "cell_type": "code",
      "execution_count": null,
      "id": "ce4675a5",
      "metadata": {
        "id": "ce4675a5"
      },
      "outputs": [],
      "source": [
        "model = Sequential()\n",
        "model.add(LSTM(50,\n",
        "              input_shape=(train_feature.shape[1], train_feature.shape[2]),\n",
        "              activation='tanh',\n",
        "              return_sequences=False))\n",
        "model.add(Dense(1, activation='sigmoid'))"
      ]
    },
    {
      "cell_type": "code",
      "execution_count": null,
      "id": "557086cb",
      "metadata": {
        "id": "557086cb"
      },
      "outputs": [],
      "source": [
        "model_path = path"
      ]
    },
    {
      "cell_type": "code",
      "execution_count": null,
      "id": "fae26f5a",
      "metadata": {
        "id": "fae26f5a"
      },
      "outputs": [],
      "source": [
        "from keras.optimizers import Adam\n",
        "compile(loss='binary_crossentropy', optimizer=Adam(learning_rate=0.0003), metrics=['accuracy'])\n",
        "early_stop = EarlyStopping(monitor='val_loss', patience=10)\n",
        "filename = os.path.join(model_path, 'tmp_checkpoint.h5')\n",
        "checkpoint = ModelCheckpoint(filename, monitor='val_loss', verbose=0, save_best_only=True, mode='auto')"
      ]
    },
    {
      "cell_type": "code",
      "execution_count": null,
      "id": "569e6dc4",
      "metadata": {
        "id": "569e6dc4",
        "outputId": "769496ae-9d41-43af-8f08-04db6b1a3fb7"
      },
      "outputs": [
        {
          "name": "stdout",
          "output_type": "stream",
          "text": [
            "Epoch 1/100\n",
            "11495/11495 [==============================] - 169s 14ms/step - loss: 0.3815 - accuracy: 0.7870 - val_loss: 0.3508 - val_accuracy: 0.7962\n",
            "Epoch 2/100\n",
            "11495/11495 [==============================] - 165s 14ms/step - loss: 0.3478 - accuracy: 0.8036 - val_loss: 0.3481 - val_accuracy: 0.8035\n",
            "Epoch 3/100\n",
            "11495/11495 [==============================] - 169s 15ms/step - loss: 0.3468 - accuracy: 0.8044 - val_loss: 0.3471 - val_accuracy: 0.8040\n",
            "Epoch 4/100\n",
            "11495/11495 [==============================] - 170s 15ms/step - loss: 0.3465 - accuracy: 0.8046 - val_loss: 0.3467 - val_accuracy: 0.8044\n",
            "Epoch 5/100\n",
            "11495/11495 [==============================] - 171s 15ms/step - loss: 0.3462 - accuracy: 0.8048 - val_loss: 0.3469 - val_accuracy: 0.8029\n",
            "Epoch 6/100\n",
            "11495/11495 [==============================] - 173s 15ms/step - loss: 0.3461 - accuracy: 0.8045 - val_loss: 0.3473 - val_accuracy: 0.8023\n",
            "Epoch 7/100\n",
            "11495/11495 [==============================] - 174s 15ms/step - loss: 0.3460 - accuracy: 0.8046 - val_loss: 0.3472 - val_accuracy: 0.8029\n",
            "Epoch 8/100\n",
            "11495/11495 [==============================] - 176s 15ms/step - loss: 0.3460 - accuracy: 0.8047 - val_loss: 0.3468 - val_accuracy: 0.8039\n",
            "Epoch 9/100\n",
            "11495/11495 [==============================] - 177s 15ms/step - loss: 0.3459 - accuracy: 0.8053 - val_loss: 0.3468 - val_accuracy: 0.8051\n",
            "Epoch 10/100\n",
            "11495/11495 [==============================] - 176s 15ms/step - loss: 0.3459 - accuracy: 0.8050 - val_loss: 0.3466 - val_accuracy: 0.8053\n",
            "Epoch 11/100\n",
            "11495/11495 [==============================] - 176s 15ms/step - loss: 0.3458 - accuracy: 0.8047 - val_loss: 0.3467 - val_accuracy: 0.8023\n",
            "Epoch 12/100\n",
            "11495/11495 [==============================] - 176s 15ms/step - loss: 0.3458 - accuracy: 0.8052 - val_loss: 0.3466 - val_accuracy: 0.8053\n",
            "Epoch 13/100\n",
            "11495/11495 [==============================] - 176s 15ms/step - loss: 0.3458 - accuracy: 0.8054 - val_loss: 0.3466 - val_accuracy: 0.8053\n",
            "Epoch 14/100\n",
            "11495/11495 [==============================] - 175s 15ms/step - loss: 0.3457 - accuracy: 0.8052 - val_loss: 0.3468 - val_accuracy: 0.8035\n",
            "Epoch 15/100\n",
            "11495/11495 [==============================] - 175s 15ms/step - loss: 0.3457 - accuracy: 0.8051 - val_loss: 0.3466 - val_accuracy: 0.8041\n",
            "Epoch 16/100\n",
            "11495/11495 [==============================] - 176s 15ms/step - loss: 0.3457 - accuracy: 0.8050 - val_loss: 0.3468 - val_accuracy: 0.8023\n",
            "Epoch 17/100\n",
            "11495/11495 [==============================] - 176s 15ms/step - loss: 0.3457 - accuracy: 0.8049 - val_loss: 0.3468 - val_accuracy: 0.8052\n",
            "Epoch 18/100\n",
            "11495/11495 [==============================] - 177s 15ms/step - loss: 0.3457 - accuracy: 0.8051 - val_loss: 0.3475 - val_accuracy: 0.8053\n",
            "Epoch 19/100\n",
            "11495/11495 [==============================] - 175s 15ms/step - loss: 0.3457 - accuracy: 0.8051 - val_loss: 0.3466 - val_accuracy: 0.8049\n",
            "Epoch 20/100\n",
            "11495/11495 [==============================] - 176s 15ms/step - loss: 0.3457 - accuracy: 0.8049 - val_loss: 0.3466 - val_accuracy: 0.8053\n",
            "Epoch 21/100\n",
            "11495/11495 [==============================] - 174s 15ms/step - loss: 0.3457 - accuracy: 0.8052 - val_loss: 0.3468 - val_accuracy: 0.8053\n",
            "Epoch 22/100\n",
            "11495/11495 [==============================] - 64s 6ms/step - loss: 0.3457 - accuracy: 0.8047 - val_loss: 0.3468 - val_accuracy: 0.8053\n"
          ]
        }
      ],
      "source": [
        "history = model.fit(x_train, y_train,epochs=100,batch_size=50,validation_data=(x_valid, y_valid),callbacks=[early_stop, checkpoint])"
      ]
    },
    {
      "cell_type": "code",
      "execution_count": null,
      "id": "c1d7bbe9",
      "metadata": {
        "scrolled": true,
        "id": "c1d7bbe9",
        "outputId": "1edbf5c0-bb96-43da-facb-aa005841d5f6"
      },
      "outputs": [
        {
          "name": "stdout",
          "output_type": "stream",
          "text": [
            "7830/7830 [==============================] - 12s 1ms/step\n"
          ]
        }
      ],
      "source": [
        "model.load_weights(filename)\n",
        "pred=model.predict(test_feature)"
      ]
    },
    {
      "cell_type": "code",
      "execution_count": null,
      "id": "a2962f6d",
      "metadata": {
        "id": "a2962f6d",
        "outputId": "a917e3c3-7ff1-4739-f558-9a241b5a0362"
      },
      "outputs": [
        {
          "data": {
            "image/png": "[encoded data removed]",
            "text/plain": [
              "<Figure size 432x288 with 1 Axes>"
            ]
          },
          "metadata": {
            "needs_background": "light"
          },
          "output_type": "display_data"
        }
      ],
      "source": [
        "plt.plot(history.history['loss'], label='train')\n",
        "plt.plot(history.history['val_loss'], label='validation')\n",
        "plt.legend()\n",
        "plt.show()"
      ]
    },
    {
      "cell_type": "code",
      "execution_count": null,
      "id": "08b9f547",
      "metadata": {
        "id": "08b9f547"
      },
      "outputs": [],
      "source": [
        "pred_df = pd.DataFrame(pred, columns=['TAG'])"
      ]
    },
    {
      "cell_type": "code",
      "execution_count": null,
      "id": "b3e6ad12",
      "metadata": {
        "id": "b3e6ad12"
      },
      "outputs": [],
      "source": [
        "pred_df['TAG'] = pred_df['TAG'].apply(lambda x: 1 if x>=0.5 else 0)"
      ]
    },
    {
      "cell_type": "code",
      "execution_count": null,
      "id": "b383728a",
      "metadata": {
        "id": "b383728a",
        "outputId": "2f904176-b54d-46c7-839f-726b81afe00f"
      },
      "outputs": [
        {
          "data": {
            "text/plain": [
              "1    200432\n",
              "0     50118\n",
              "Name: TAG, dtype: int64"
            ]
          },
          "execution_count": 42,
          "metadata": {},
          "output_type": "execute_result"
        }
      ],
      "source": [
        "pred_df['TAG'].value_counts()"
      ]
    },
    {
      "cell_type": "code",
      "execution_count": null,
      "id": "4cfd1d94",
      "metadata": {
        "id": "4cfd1d94",
        "outputId": "0664b0b8-5154-4001-d675-91d14d1fa323"
      },
      "outputs": [
        {
          "name": "stdout",
          "output_type": "stream",
          "text": [
            "[[  2155    785]\n",
            " [ 47963 199647]]\n"
          ]
        }
      ],
      "source": [
        "classify=confusion_matrix(test_label, pred_df)\n",
        "print(classify)"
      ]
    },
    {
      "cell_type": "code",
      "execution_count": null,
      "id": "ca46e3c2",
      "metadata": {
        "id": "ca46e3c2",
        "outputId": "204376a8-e542-4cb8-c39b-6542672461db"
      },
      "outputs": [
        {
          "name": "stdout",
          "output_type": "stream",
          "text": [
            "predcision: 0.9961\n",
            "recall: 0.8063\n",
            "f1-score: 0.9961\n",
            "predcision: 0.8054\n"
          ]
        }
      ],
      "source": [
        "p = precision_score(test_label, pred_df)\n",
        "print(\"predcision: %0.4f\" %p)\n",
        "r = recall_score(test_label, pred_df)\n",
        "print(\"recall: %0.4f\" %r)\n",
        "f1 = f1_score(test_label, pred_df)\n",
        "print(\"f1-score: %0.4f\" %p)\n",
        "acc = accuracy_score(test_label, pred_df)\n",
        "print(\"predcision: %0.4f\" %acc)"
      ]
    },
    {
      "cell_type": "code",
      "execution_count": null,
      "id": "033bcdae",
      "metadata": {
        "id": "033bcdae"
      },
      "outputs": [],
      "source": []
    }
  ],
  "metadata": {
    "kernelspec": {
      "display_name": "Python 3 (ipykernel)",
      "language": "python",
      "name": "python3"
    },
    "language_info": {
      "codemirror_mode": {
        "name": "ipython",
        "version": 3
      },
      "file_extension": ".py",
      "mimetype": "text/x-python",
      "name": "python",
      "nbconvert_exporter": "python",
      "pygments_lexer": "ipython3",
      "version": "3.9.7"
    },
    "colab": {
      "provenance": []
    }
  },
  "nbformat": 4,
  "nbformat_minor": 5
}